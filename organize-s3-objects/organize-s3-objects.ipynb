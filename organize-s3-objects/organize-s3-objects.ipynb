{
 "cells": [
  {
   "cell_type": "code",
   "execution_count": 9,
   "metadata": {},
   "outputs": [],
   "source": [
    "import boto3\n",
    "from datetime import datetime"
   ]
  },
  {
   "cell_type": "code",
   "execution_count": 10,
   "metadata": {},
   "outputs": [],
   "source": [
    "today = datetime.today()\n",
    "todays_date = today.strftime(\"%Y%m%d\")"
   ]
  },
  {
   "cell_type": "markdown",
   "metadata": {},
   "source": [
    "search for boto3 aws s3 in google. find client. this help connect to the s3 bucket"
   ]
  },
  {
   "cell_type": "code",
   "execution_count": 11,
   "metadata": {},
   "outputs": [],
   "source": [
    "# connect to the s3 bucket created\n",
    "s3_client = boto3.client('s3')\n",
    "\n",
    "\n",
    "bucket_name = \"chidex-organize-s3-objects\"\n",
    "\n",
    "#list all objects in the bucket (search boto3 aws list s3 objects)\n",
    "list_objects = s3_client.list_objects_v2(Bucket=bucket_name)\n"
   ]
  },
  {
   "cell_type": "code",
   "execution_count": 12,
   "metadata": {},
   "outputs": [],
   "source": [
    "# get the values of the key contents in the bucket\n",
    "get_content = list_objects.get(\"Contents\")\n"
   ]
  },
  {
   "cell_type": "code",
   "execution_count": 13,
   "metadata": {},
   "outputs": [],
   "source": [
    "# get the names of all the objects in the bucket \n",
    "get_all_object_names = []\n",
    "\n",
    "for item in get_content:\n",
    "    s3_object_name = item.get(\"Key\")\n",
    "    \n",
    "    get_all_object_names.append(s3_object_name)\n",
    "    "
   ]
  },
  {
   "cell_type": "code",
   "execution_count": 14,
   "metadata": {},
   "outputs": [],
   "source": [
    "# create folder format \n",
    "directory_name = todays_date + \"/\""
   ]
  },
  {
   "cell_type": "code",
   "execution_count": 15,
   "metadata": {},
   "outputs": [],
   "source": [
    "#create a folder for today's date in the s3 bucket\n",
    "\n",
    "#first check if the folder exist in the S3 bucket: if statement\n",
    "\n",
    "if directory_name not in get_all_object_names:\n",
    "    s3_client.put_object(Bucket=bucket_name, Key=(directory_name))"
   ]
  },
  {
   "cell_type": "code",
   "execution_count": 16,
   "metadata": {},
   "outputs": [],
   "source": [
    "# put all the files in the folder created\n",
    "for item in get_content:\n",
    "    object_creation_date = item.get(\"LastModified\").strftime(\"%Y%m%d\") + \"/\"\n",
    "    object_name = item.get(\"Key\")\n",
    "    \n",
    "    # next check if each object matches the folder name: condition \n",
    "    if object_creation_date == directory_name and \"/\" not in object_name: \n",
    "        s3_client.copy_object(Bucket=bucket_name, CopySource=bucket_name+\"/\"+object_name, Key=directory_name+object_name)\n",
    "        s3_client.delete_object(Bucket=bucket_name, Key=object_name)\n"
   ]
  }
 ],
 "metadata": {
  "kernelspec": {
   "display_name": "Python 3",
   "language": "python",
   "name": "python3"
  },
  "language_info": {
   "codemirror_mode": {
    "name": "ipython",
    "version": 3
   },
   "file_extension": ".py",
   "mimetype": "text/x-python",
   "name": "python",
   "nbconvert_exporter": "python",
   "pygments_lexer": "ipython3",
   "version": "3.10.7"
  }
 },
 "nbformat": 4,
 "nbformat_minor": 2
}
